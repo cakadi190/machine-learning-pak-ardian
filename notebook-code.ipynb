{
 "cells": [
  {
   "cell_type": "markdown",
   "metadata": {},
   "source": [
    "# Analisis Data Pendanaan Startup\n",
    "\n",
    "Nama: Amir Zuhdi Wibowo<br/>\n",
    "NIM: 223307033<br/>\n",
    "Kelas: TI-5B<br/>"
   ]
  },
  {
   "cell_type": "code",
   "execution_count": 1,
   "metadata": {},
   "outputs": [],
   "source": [
    "import pandas as pd\n",
    "import matplotlib.pyplot as plt"
   ]
  },
  {
   "cell_type": "code",
   "execution_count": 2,
   "metadata": {},
   "outputs": [],
   "source": [
    "# Membaca data\n",
    "sample_file_path = \"startup_data.csv\"\n",
    "df = pd.read_csv(sample_file_path, on_bad_lines='skip')"
   ]
  },
  {
   "cell_type": "code",
   "execution_count": 3,
   "metadata": {},
   "outputs": [],
   "source": [
    "# Kolom pendanaan\n",
    "funding_columns = [\n",
    "    \"No_Stage_Amount\", \"Seed_Amount\", \"Series_A_Amount\", \n",
    "    \"Series_B_Amount\", \"Series_C_Amount\", \"Series_D_Amount\"\n",
    "]\n",
    "\n",
    "# Membersihkan simbol $ dan , dari kolom pendanaan\n",
    "for col in funding_columns:\n",
    "    df[col] = df[col].str.replace(r\"[\\$,]\", \"\", regex=True)\n",
    "\n",
    "# Mengonversi kolom pendanaan menjadi numerik\n",
    "df[funding_columns] = df[funding_columns].apply(pd.to_numeric, errors='coerce')"
   ]
  },
  {
   "cell_type": "code",
   "execution_count": 4,
   "metadata": {},
   "outputs": [],
   "source": [
    "# Menangani nilai kosong\n",
    "string_columns = [\n",
    "    \"Description\", \"Stage\", \"Market\", \"Names\", \n",
    "    \"No_Stage_Date\", \"Pitch\", \"Seed_Date\", \n",
    "    \"Series_A_Date\", \"Series_B_Date\", \"Series_C_Date\", \"Series_D_Date\"\n",
    "]\n",
    "\n",
    "numeric_columns = [\n",
    "    \"No_Stage_Amount\", \"Seed_Amount\", \"Series_A_Amount\", \n",
    "    \"Series_B_Amount\", \"Series_C_Amount\", \"Series_D_Amount\"\n",
    "]\n",
    "\n",
    "# Isi nilai kosong pada kolom string dengan 'Unknown'\n",
    "for col in string_columns:\n",
    "    df[col] = df[col].fillna(\"Unknown\")\n",
    "\n",
    "# Isi nilai kosong pada kolom numerik dengan 0\n",
    "for col in numeric_columns:\n",
    "    df[col] = df[col].fillna(0)\n",
    "\n",
    "# Gantikan value dari Stage yang awalnya \"-\" menjadi \"Not Passed\"\n",
    "df[\"Stage\"] = df[\"Stage\"].replace(\"-\", \"Not Passed\")"
   ]
  },
  {
   "cell_type": "code",
   "execution_count": 5,
   "metadata": {},
   "outputs": [
    {
     "name": "stdout",
     "output_type": "stream",
     "text": [
      "                                            Description  \\\n",
      "0                                               Unknown   \n",
      "1                                               Unknown   \n",
      "2     Visualead (视觉码) creates better interactions be...   \n",
      "3                                               Unknown   \n",
      "4                                               Unknown   \n",
      "...                                                 ...   \n",
      "3202                                            Unknown   \n",
      "3203  Talari WAN solutions bring Internet economics ...   \n",
      "3204                                            Unknown   \n",
      "3205                                            Unknown   \n",
      "3206                                            Unknown   \n",
      "\n",
      "                           Market             Names  No_Stage_Amount  \\\n",
      "0                           Cable     Epic-Sciences              0.0   \n",
      "1                    All Students  Apreso-Classroom              0.0   \n",
      "2     Bridging Online and Offline         Visualead              0.0   \n",
      "3                 Food Processing           Onshift        7000000.0   \n",
      "4                               -    Xendex-Holding              0.0   \n",
      "...                           ...               ...              ...   \n",
      "3202                      Unknown           Conviva              0.0   \n",
      "3203                      Finance   Talari-Networks        7500000.0   \n",
      "3204                          Men         Mediastay              0.0   \n",
      "3205                    Analytics        Ace-Metrix        1700000.0   \n",
      "3206                        Games     Zebra-Imaging        5000000.0   \n",
      "\n",
      "     No_Stage_Date                                              Pitch  \\\n",
      "0          Unknown                                            Unknown   \n",
      "1          Unknown                                            Unknown   \n",
      "2          Unknown  Effective and Secure Offline to Mobile experie...   \n",
      "3     Feb  3, 2014                                            Unknown   \n",
      "4          Unknown                                            Unknown   \n",
      "...            ...                                                ...   \n",
      "3202       Unknown                                            Unknown   \n",
      "3203  Nov 26, 2013                                            Unknown   \n",
      "3204       Unknown                                            Unknown   \n",
      "3205  Nov 23, 2009                                            Unknown   \n",
      "3206  May  6, 2014                                            Unknown   \n",
      "\n",
      "      Seed_Amount     Seed_Date  Series_A_Amount Series_A_Date  \\\n",
      "0             0.0       Unknown              0.0       Unknown   \n",
      "1             0.0       Unknown              0.0       Unknown   \n",
      "2        750000.0  Mar 25, 2012        1600000.0  Aug 15, 2013   \n",
      "3             0.0       Unknown              0.0       Unknown   \n",
      "4             0.0       Unknown              0.0  Jun 25, 2008   \n",
      "...           ...           ...              ...           ...   \n",
      "3202          0.0       Unknown        9000000.0  Apr 10, 2007   \n",
      "3203          0.0       Unknown        6200000.0  Jan 27, 2009   \n",
      "3204          0.0       Unknown              0.0       Unknown   \n",
      "3205          0.0       Unknown        3000000.0  Aug  1, 2008   \n",
      "3206          0.0       Unknown              0.0       Unknown   \n",
      "\n",
      "      Series_B_Amount Series_B_Date  Series_C_Amount Series_C_Date  \\\n",
      "0          13000000.0  Nov 13, 2012       30000000.0  Jul 30, 2014   \n",
      "1          15000000.0  Oct 14, 2008              0.0       Unknown   \n",
      "2                 0.0  Jan 20, 2015              0.0       Unknown   \n",
      "3           3000000.0  Feb  2, 2012              0.0       Unknown   \n",
      "4           3500000.0  Nov 30, 2009              0.0       Unknown   \n",
      "...               ...           ...              ...           ...   \n",
      "3202       20000000.0  Aug 25, 2008       15000000.0  Sep 15, 2010   \n",
      "3203       10000000.0  Aug 10, 2010        5000000.0  Jun 13, 2013   \n",
      "3204       21500000.0  Apr  8, 2011              0.0       Unknown   \n",
      "3205        6000000.0  Dec 16, 2009        8000000.0  May 29, 2012   \n",
      "3206              0.0       Unknown        5900000.0  Oct 24, 2006   \n",
      "\n",
      "      Series_D_Amount Series_D_Date       Stage  Total Funding  \n",
      "0                 0.0       Unknown    Series C     43000000.0  \n",
      "1                 0.0       Unknown    Series B     15000000.0  \n",
      "2                 0.0       Unknown    Series B      2350000.0  \n",
      "3                 0.0       Unknown    Series C     10000000.0  \n",
      "4                 0.0       Unknown    Series A      3500000.0  \n",
      "...               ...           ...         ...            ...  \n",
      "3202       15000000.0  Feb  6, 2012     Unknown     59000000.0  \n",
      "3203       15000000.0  Nov 18, 2013    Series C     43700000.0  \n",
      "3204              0.0       Unknown    Series A     21500000.0  \n",
      "3205              0.0       Unknown  Not Passed     18700000.0  \n",
      "3206              0.0       Unknown  Not Passed     10900000.0  \n",
      "\n",
      "[3207 rows x 18 columns]\n"
     ]
    }
   ],
   "source": [
    "# Menghitung total pendanaan\n",
    "df[\"Total Funding\"] = df[funding_columns].fillna(0).sum(axis=1)\n",
    "\n",
    "# Tampilkan data\n",
    "print(df)"
   ]
  },
  {
   "cell_type": "code",
   "execution_count": null,
   "metadata": {},
   "outputs": [],
   "source": [
    "# Total Pendanaan per Startup\n",
    "df[\"Unique_Description\"] = df[\"Names\"] + \" (\" + df.index.astype(str) + \")\"\n",
    "\n",
    "# Kelompokkan berdasarkan 'Unique_Description'\n",
    "chart_data = df.groupby(\"Unique_Description\")[\"Total Funding\"].sum().reset_index()\n",
    "\n",
    "# Buat grafik batang\n",
    "plt.figure(figsize=(12, 6))\n",
    "plt.bar(chart_data[\"Unique_Description\"], chart_data[\"Total Funding\"])\n",
    "plt.title(\"Total Pendanaan per Startup\")\n",
    "plt.xlabel(\"Startup\")\n",
    "plt.ylabel(\"Total Pendanaan\")\n",
    "plt.xticks(rotation=45, ha='right')\n",
    "plt.tight_layout()\n",
    "plt.show()"
   ]
  },
  {
   "cell_type": "code",
   "execution_count": null,
   "metadata": {},
   "outputs": [],
   "source": [
    "# Distribusi Pendanaan Berdasarkan Tahapan\n",
    "stage_funding = df.groupby(\"Stage\")[funding_columns].sum().reset_index()\n",
    "\n",
    "# Buat grafik batang untuk distribusi pendanaan\n",
    "plt.figure(figsize=(12, 6))\n",
    "stage_funding.plot(x=\"Stage\", y=funding_columns, kind='bar', stacked=True)\n",
    "plt.title(\"Distribusi Pendanaan Berdasarkan Tahapan\")\n",
    "plt.xlabel(\"Stage\")\n",
    "plt.ylabel(\"Total Pendanaan\")\n",
    "plt.legend(title=\"Funding Stage\", bbox_to_anchor=(1.05, 1), loc='upper left')\n",
    "plt.tight_layout()\n",
    "plt.show()"
   ]
  },
  {
   "cell_type": "code",
   "execution_count": null,
   "metadata": {},
   "outputs": [],
   "source": [
    "# Fungsi untuk memfilter berdasarkan stage\n",
    "def filter_by_stage(stage):\n",
    "    filtered_data = df[df[\"Stage\"] == stage]\n",
    "    if filtered_data.empty:\n",
    "        print(f\"Tidak ada startup pada Stage: {stage}\")\n",
    "    else:\n",
    "        print(f\"Startup pada Stage: {stage}\")\n",
    "        print(filtered_data)\n",
    "\n",
    "# Contoh: Filter untuk stage 'Seed'\n",
    "filter_by_stage('Seed')"
   ]
  },
  {
   "cell_type": "code",
   "execution_count": null,
   "metadata": {},
   "outputs": [],
   "source": [
    "# Membuat Model Regresi Linear\n",
    "from sklearn.linear_model import LinearRegression\n",
    "from sklearn.model_selection import train_test_split\n",
    "\n",
    "# Pilih kolom untuk analisis (sesuaikan dengan data Anda)\n",
    "X = df[[\"Seed_Amount\", \"Series_A_Amount\", \"Series_B_Amount\"]]\n",
    "y = df[\"Total Funding\"]\n",
    "\n",
    "# Bagi data menjadi data latih dan uji\n",
    "X_train, X_test, y_train, y_test = train_test_split(X, y, test_size=0.2, random_state=42)\n",
    "\n",
    "# Membuat dan melatih model\n",
    "reg = LinearRegression()\n",
    "reg.fit(X_train, y_train)\n",
    "\n",
    "# Menyimpan Model\n",
    "import pickle\n",
    "\n",
    "filename = 'startup.sav'\n",
    "pickle.dump(reg, open(filename, 'wb'))\n",
    "\n",
    "print(\"Model berhasil disimpan.\")"
   ]
  },
  {
   "cell_type": "code",
   "execution_count": null,
   "metadata": {},
   "outputs": [],
   "source": []
  }
 ],
 "metadata": {
  "kernelspec": {
   "display_name": "Python 3 (ipykernel)",
   "language": "python",
   "name": "python3"
  },
  "language_info": {
   "codemirror_mode": {
    "name": "ipython",
    "version": 3
   },
   "file_extension": ".py",
   "mimetype": "text/x-python",
   "name": "python",
   "nbconvert_exporter": "python",
   "pygments_lexer": "ipython3",
   "version": "3.13.1"
  }
 },
 "nbformat": 4,
 "nbformat_minor": 4
}
