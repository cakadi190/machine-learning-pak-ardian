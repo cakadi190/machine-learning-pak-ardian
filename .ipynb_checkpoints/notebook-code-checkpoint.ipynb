{
 "cells": [
  {
   "cell_type": "markdown",
   "metadata": {},
   "source": [
    "# Analisis Data Pendanaan Startup\n",
    "\n",
    "Nama: Amir Zuhdi Wibowo<br/>\n",
    "NIM: 223307033<br/>\n",
    "Kelas: TI-5B<br/>"
   ]
  },
  {
   "cell_type": "code",
   "execution_count": null,
   "metadata": {},
   "outputs": [],
   "source": [
    "import pandas as pd\n",
    "import matplotlib.pyplot as plt"
   ]
  },
  {
   "cell_type": "code",
   "execution_count": null,
   "metadata": {},
   "outputs": [],
   "source": [
    "# Membaca data\n",
    "sample_file_path = \"startup_data.csv\"\n",
    "df = pd.read_csv(sample_file_path, on_bad_lines='skip')"
   ]
  },
  {
   "cell_type": "code",
   "execution_count": null,
   "metadata": {},
   "outputs": [],
   "source": [
    "# Kolom pendanaan\n",
    "funding_columns = [\n",
    "    \"No_Stage_Amount\", \"Seed_Amount\", \"Series_A_Amount\", \n",
    "    \"Series_B_Amount\", \"Series_C_Amount\", \"Series_D_Amount\"\n",
    "]\n",
    "\n",
    "# Membersihkan simbol $ dan , dari kolom pendanaan\n",
    "for col in funding_columns:\n",
    "    df[col] = df[col].str.replace(r\"[\\$,]\", \"\", regex=True)\n",
    "\n",
    "# Mengonversi kolom pendanaan menjadi numerik\n",
    "df[funding_columns] = df[funding_columns].apply(pd.to_numeric, errors='coerce')"
   ]
  },
  {
   "cell_type": "code",
   "execution_count": null,
   "metadata": {},
   "outputs": [],
   "source": [
    "# Menangani nilai kosong\n",
    "string_columns = [\n",
    "    \"Description\", \"Stage\", \"Market\", \"Names\", \n",
    "    \"No_Stage_Date\", \"Pitch\", \"Seed_Date\", \n",
    "    \"Series_A_Date\", \"Series_B_Date\", \"Series_C_Date\", \"Series_D_Date\"\n",
    "]\n",
    "\n",
    "numeric_columns = [\n",
    "    \"No_Stage_Amount\", \"Seed_Amount\", \"Series_A_Amount\", \n",
    "    \"Series_B_Amount\", \"Series_C_Amount\", \"Series_D_Amount\"\n",
    "]\n",
    "\n",
    "# Isi nilai kosong pada kolom string dengan 'Unknown'\n",
    "for col in string_columns:\n",
    "    df[col] = df[col].fillna(\"Unknown\")\n",
    "\n",
    "# Isi nilai kosong pada kolom numerik dengan 0\n",
    "for col in numeric_columns:\n",
    "    df[col] = df[col].fillna(0)\n",
    "\n",
    "# Gantikan value dari Stage yang awalnya \"-\" menjadi \"Not Passed\"\n",
    "df[\"Stage\"] = df[\"Stage\"].replace(\"-\", \"Not Passed\")"
   ]
  },
  {
   "cell_type": "code",
   "execution_count": null,
   "metadata": {},
   "outputs": [],
   "source": [
    "# Menghitung total pendanaan\n",
    "df[\"Total Funding\"] = df[funding_columns].fillna(0).sum(axis=1)\n",
    "\n",
    "# Tampilkan data\n",
    "print(df)"
   ]
  },
  {
   "cell_type": "code",
   "execution_count": null,
   "metadata": {},
   "outputs": [],
   "source": [
    "# Total Pendanaan per Startup\n",
    "df[\"Unique_Description\"] = df[\"Names\"] + \" (\" + df.index.astype(str) + \")\"\n",
    "\n",
    "# Kelompokkan berdasarkan 'Unique_Description'\n",
    "chart_data = df.groupby(\"Unique_Description\")[\"Total Funding\"].sum().reset_index()\n",
    "\n",
    "# Buat grafik batang\n",
    "plt.figure(figsize=(12, 6))\n",
    "plt.bar(chart_data[\"Unique_Description\"], chart_data[\"Total Funding\"])\n",
    "plt.title(\"Total Pendanaan per Startup\")\n",
    "plt.xlabel(\"Startup\")\n",
    "plt.ylabel(\"Total Pendanaan\")\n",
    "plt.xticks(rotation=45, ha='right')\n",
    "plt.tight_layout()\n",
    "plt.show()"
   ]
  },
  {
   "cell_type": "code",
   "execution_count": null,
   "metadata": {},
   "outputs": [],
   "source": [
    "# Distribusi Pendanaan Berdasarkan Tahapan\n",
    "stage_funding = df.groupby(\"Stage\")[funding_columns].sum().reset_index()\n",
    "\n",
    "# Buat grafik batang untuk distribusi pendanaan\n",
    "plt.figure(figsize=(12, 6))\n",
    "stage_funding.plot(x=\"Stage\", y=funding_columns, kind='bar', stacked=True)\n",
    "plt.title(\"Distribusi Pendanaan Berdasarkan Tahapan\")\n",
    "plt.xlabel(\"Stage\")\n",
    "plt.ylabel(\"Total Pendanaan\")\n",
    "plt.legend(title=\"Funding Stage\", bbox_to_anchor=(1.05, 1), loc='upper left')\n",
    "plt.tight_layout()\n",
    "plt.show()"
   ]
  },
  {
   "cell_type": "code",
   "execution_count": null,
   "metadata": {},
   "outputs": [],
   "source": [
    "# Fungsi untuk memfilter berdasarkan stage\n",
    "def filter_by_stage(stage):\n",
    "    filtered_data = df[df[\"Stage\"] == stage]\n",
    "    if filtered_data.empty:\n",
    "        print(f\"Tidak ada startup pada Stage: {stage}\")\n",
    "    else:\n",
    "        print(f\"Startup pada Stage: {stage}\")\n",
    "        print(filtered_data)\n",
    "\n",
    "# Contoh: Filter untuk stage 'Seed'\n",
    "filter_by_stage('Seed')"
   ]
  },
  {
   "cell_type": "code",
   "execution_count": null,
   "metadata": {},
   "outputs": [],
   "source": [
    "# Membuat Model Regresi Linear\n",
    "from sklearn.linear_model import LinearRegression\n",
    "from sklearn.model_selection import train_test_split\n",
    "\n",
    "# Pilih kolom untuk analisis (sesuaikan dengan data Anda)\n",
    "X = df[[\"Seed_Amount\", \"Series_A_Amount\", \"Series_B_Amount\"]]\n",
    "y = df[\"Total Funding\"]\n",
    "\n",
    "# Bagi data menjadi data latih dan uji\n",
    "X_train, X_test, y_train, y_test = train_test_split(X, y, test_size=0.2, random_state=42)\n",
    "\n",
    "# Membuat dan melatih model\n",
    "reg = LinearRegression()\n",
    "reg.fit(X_train, y_train)\n",
    "\n",
    "# Menyimpan Model\n",
    "import pickle\n",
    "\n",
    "filename = 'startup.sav'\n",
    "pickle.dump(reg, open(filename, 'wb'))\n",
    "\n",
    "print(\"Model berhasil disimpan.\")\n"
   ]
  }
 ],
 "metadata": {
  "kernelspec": {
   "display_name": "Python 3",
   "language": "python",
   "name": "python3"
  },
  "language_info": {
   "codemirror_mode": {
    "name": "ipython",
    "version": 3
   },
   "file_extension": ".py",
   "mimetype": "text/x-python",
   "name": "python",
   "nbconvert_exporter": "python",
   "pygments_lexer": "ipython3",
   "version": "3.13.0"
  }
 },
 "nbformat": 4,
 "nbformat_minor": 4
}
